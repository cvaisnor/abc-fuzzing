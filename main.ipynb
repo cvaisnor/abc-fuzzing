{
 "cells": [
  {
   "cell_type": "markdown",
   "metadata": {},
   "source": [
    "This is the main notebook for the project. \n",
    "\n",
    "Markov Chain Monte Carlo Library: https://github.com/dflemin3/approxposterior\n",
    "\n",
    "The idea:\n",
    "Get a random array of binary values to return a True value when passed through a hidden \"black box\" function. Using a Markov Chain Monte Carlo (MCMC) method, we can find the hidden function.\n",
    "\n",
    "Input will be a numpy array of binary values. Output will be a boolean value.\n",
    "\n",
    "Ex: \n",
    "- Input: [0, 1, 0, 1, 1, 0, 0, 1, 1, 1]\n",
    "- Output: False\n",
    "\n",
    "The hidden function will be a random function that returns True when the input array is [1, 1, 1, 1, 1, 1, 1, 1, 1, 1].\n",
    "\n",
    "The MCMC method will be used to find the hidden function. The MCMC method will be implemented using the ApproxPosterior library."
   ]
  },
  {
   "cell_type": "code",
   "execution_count": 24,
   "metadata": {},
   "outputs": [],
   "source": [
    "from approxposterior import approx, gpUtils, likelihood as lh, utility as ut\n",
    "import numpy as np"
   ]
  },
  {
   "cell_type": "code",
   "execution_count": 27,
   "metadata": {},
   "outputs": [],
   "source": [
    "# input array of theta will always be a 10 item numpy array with each element being a 1 or 0\n",
    "\n",
    "def create_test_data(number_of_samples = 100, length = 10):\n",
    "    all_observations = []\n",
    "\n",
    "    for i in range(number_of_samples):\n",
    "        theta = np.random.randint(2, size=length)\n",
    "        observation = np.random.randint(2, size=length)\n",
    "        all_observations.append([theta, observation])\n",
    "\n",
    "        "
   ]
  },
  {
   "cell_type": "code",
   "execution_count": 28,
   "metadata": {},
   "outputs": [],
   "source": [
    "test_data = create_test_data()"
   ]
  },
  {
   "cell_type": "code",
   "execution_count": 29,
   "metadata": {},
   "outputs": [
    {
     "ename": "AttributeError",
     "evalue": "'tuple' object has no attribute 'shape'",
     "output_type": "error",
     "traceback": [
      "\u001b[0;31m---------------------------------------------------------------------------\u001b[0m",
      "\u001b[0;31mAttributeError\u001b[0m                            Traceback (most recent call last)",
      "\u001b[0;32m/tmp/ipykernel_79298/2410026710.py\u001b[0m in \u001b[0;36m<module>\u001b[0;34m\u001b[0m\n\u001b[0;32m----> 1\u001b[0;31m \u001b[0mtest_data\u001b[0m\u001b[0;34m.\u001b[0m\u001b[0mshape\u001b[0m\u001b[0;34m\u001b[0m\u001b[0;34m\u001b[0m\u001b[0m\n\u001b[0m",
      "\u001b[0;31mAttributeError\u001b[0m: 'tuple' object has no attribute 'shape'"
     ]
    }
   ],
   "source": [
    "test_data.shape"
   ]
  },
  {
   "cell_type": "code",
   "execution_count": null,
   "metadata": {},
   "outputs": [
    {
     "name": "stdout",
     "output_type": "stream",
     "text": [
      "First 10 samples of test data:\n",
      "[[1. 0. 1. 0. 0. 0. 1. 0. 0. 0.]\n",
      " [0. 1. 1. 0. 0. 0. 0. 0. 1. 1.]\n",
      " [1. 0. 1. 0. 1. 1. 0. 1. 0. 0.]\n",
      " [0. 1. 0. 0. 1. 1. 0. 1. 1. 0.]\n",
      " [0. 1. 1. 0. 0. 1. 1. 1. 1. 0.]\n",
      " [0. 0. 0. 0. 0. 1. 0. 1. 1. 0.]\n",
      " [1. 0. 0. 0. 1. 0. 1. 1. 0. 0.]\n",
      " [1. 0. 1. 0. 0. 1. 0. 0. 1. 1.]\n",
      " [0. 1. 0. 1. 1. 1. 1. 0. 1. 0.]\n",
      " [0. 1. 1. 1. 1. 1. 1. 0. 0. 1.]]\n"
     ]
    }
   ],
   "source": [
    "print('First 10 samples of test data:')\n",
    "print(test_data[0:10,:])"
   ]
  },
  {
   "cell_type": "code",
   "execution_count": 14,
   "metadata": {},
   "outputs": [],
   "source": [
    "def black_box_function(theta):\n",
    "    # theta is a 10 item numpy array with each element being a 1 or 0\n",
    "    \n",
    "    # if the item in position 7 is 1, return True, else return False\n",
    "    if theta[7] == 1:\n",
    "        return True\n",
    "    else:\n",
    "        return False"
   ]
  },
  {
   "cell_type": "code",
   "execution_count": null,
   "metadata": {},
   "outputs": [],
   "source": []
  }
 ],
 "metadata": {
  "kernelspec": {
   "display_name": "Python 3",
   "language": "python",
   "name": "python3"
  },
  "language_info": {
   "codemirror_mode": {
    "name": "ipython",
    "version": 3
   },
   "file_extension": ".py",
   "mimetype": "text/x-python",
   "name": "python",
   "nbconvert_exporter": "python",
   "pygments_lexer": "ipython3",
   "version": "3.10.12"
  }
 },
 "nbformat": 4,
 "nbformat_minor": 2
}
