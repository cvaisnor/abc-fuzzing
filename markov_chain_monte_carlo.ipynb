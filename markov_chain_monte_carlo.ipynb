{
 "cells": [
  {
   "cell_type": "code",
   "execution_count": null,
   "metadata": {},
   "outputs": [],
   "source": [
    "from approxposterior import approx, gpUtils, likelihood as lh, utility as ut\n",
    "import numpy as np\n",
    "\n",
    "# Define algorithm parameters\n",
    "training_set_size = 50                           # Initial size of training set\n",
    "new_points_per_iteration = 20                            # Number of new points to find each iteration\n",
    "max_iterations = 5                        # Maximum number of iterations\n",
    "prior_bounds = [(-5,5), (-5,5)]         # Prior bounds\n",
    "algorithm = \"bape\"                # Use the Kandasamy et al. (2017) formalism\n",
    "seed = 57                         # RNG seed\n",
    "np.random.seed(seed)\n",
    "\n",
    "# emcee MCMC parameters\n",
    "samplerKwargs = {\"nwalkers\" : 20}        # emcee.EnsembleSampler parameters\n",
    "mcmcKwargs = {\"iterations\" : int(2.0e4)} # emcee.EnsembleSampler.run_mcmc parameters\n",
    "\n",
    "# Sample design points from prior\n",
    "theta = lh.rosenbrockSample(training_set_size)\n",
    "\n",
    "# Evaluate forward model log likelihood + lnprior for each theta\n",
    "y = np.zeros(len(theta))\n",
    "for ii in range(len(theta)):\n",
    "    y[ii] = lh.rosenbrockLnlike(theta[ii]) + lh.rosenbrockLnprior(theta[ii])\n",
    "\n",
    "# Default GP with an ExpSquaredKernel\n",
    "gp = gpUtils.defaultGP(theta, y, white_noise=-12)\n",
    "\n",
    "# Initialize object using the Wang & Li (2018) Rosenbrock function example\n",
    "approximate_posterior = approx.ApproxPosterior(theta=theta,\n",
    "                            y=y,\n",
    "                            gp=gp,\n",
    "                            lnprior=lh.rosenbrockLnprior,\n",
    "                            lnlike=lh.rosenbrockLnlike,\n",
    "                            priorSample=lh.rosenbrockSample,\n",
    "                            bounds=prior_bounds,\n",
    "                            algorithm=algorithm)\n",
    "\n",
    "# Run!\n",
    "approximate_posterior.run(m=new_points_per_iteration, nmax=max_iterations, estBurnin=True, nGPRestarts=3, mcmcKwargs=mcmcKwargs,\n",
    "       cache=False, samplerKwargs=samplerKwargs, verbose=True, thinChains=False,\n",
    "       onlyLastMCMC=True)"
   ]
  },
  {
   "cell_type": "code",
   "execution_count": null,
   "metadata": {},
   "outputs": [],
   "source": [
    "# Check out the final posterior distribution!\n",
    "import corner\n",
    "\n",
    "# Load in chain from last iteration\n",
    "samples = approximate_posterior.sampler.get_chain(discard=approximate_posterior.iburns[-1], flat=True, thin=approximate_posterior.ithins[-1])\n",
    "\n",
    "# Corner plot!\n",
    "fig = corner.corner(samples, quantiles=[0.16, 0.5, 0.84], show_titles=True,\n",
    "                    scale_hist=True, plot_contours=True)\n",
    "\n",
    "# Plot where forward model was evaluated - uncomment to plot!\n",
    "fig.axes[2].scatter(approximate_posterior.theta[training_set_size:,0], approximate_posterior.theta[training_set_size:,1], s=10, color=\"red\", zorder=20)\n",
    "\n",
    "# Save figure\n",
    "fig.savefig(\"finalPosterior.png\", bbox_inches=\"tight\")"
   ]
  },
  {
   "cell_type": "code",
   "execution_count": 2,
   "metadata": {},
   "outputs": [],
   "source": [
    "import numpy as np"
   ]
  },
  {
   "cell_type": "code",
   "execution_count": 3,
   "metadata": {},
   "outputs": [
    {
     "name": "stdout",
     "output_type": "stream",
     "text": [
      "Number of heads:  594\n",
      "Number of tails:  406\n"
     ]
    }
   ],
   "source": [
    "np.random.seed(57)\n",
    "\n",
    "# Define the true bias of the coin\n",
    "true_bias = 0.6\n",
    "\n",
    "# Decide on the number of coin flips\n",
    "n_flips = 1000\n",
    "\n",
    "# Generate synthetic coin flips\n",
    "synthetic_data = np.random.choice([0, 1], size=n_flips, p=[1-true_bias, true_bias])\n",
    "\n",
    "n_heads = np.sum(synthetic_data)\n",
    "n_tails = n_flips - n_heads\n",
    "\n",
    "print(\"Number of heads: \", n_heads)\n",
    "print(\"Number of tails: \", n_tails)"
   ]
  },
  {
   "cell_type": "code",
   "execution_count": null,
   "metadata": {},
   "outputs": [],
   "source": []
  }
 ],
 "metadata": {
  "kernelspec": {
   "display_name": "Python 3",
   "language": "python",
   "name": "python3"
  },
  "language_info": {
   "codemirror_mode": {
    "name": "ipython",
    "version": 3
   },
   "file_extension": ".py",
   "mimetype": "text/x-python",
   "name": "python",
   "nbconvert_exporter": "python",
   "pygments_lexer": "ipython3",
   "version": "3.10.12"
  }
 },
 "nbformat": 4,
 "nbformat_minor": 2
}
