{
 "cells": [
  {
   "cell_type": "code",
   "execution_count": 15,
   "metadata": {},
   "outputs": [],
   "source": [
    "import approxbayescomp as abc\n",
    "import numpy as np"
   ]
  },
  {
   "cell_type": "code",
   "execution_count": 16,
   "metadata": {},
   "outputs": [],
   "source": [
    "# Load data to fit (modify this line to load real observations!)\n",
    "obsData = [1.0, 2.0, 3.0]\n",
    "\n",
    "# Specify our prior beliefs over (lambda, mu, sigma).\n",
    "priors = abc.IndependentUniformPrior([(0, 100), (-5, 5), (0, 3)])"
   ]
  },
  {
   "cell_type": "code",
   "execution_count": 17,
   "metadata": {},
   "outputs": [],
   "source": [
    "# Fit the model to the data using ABC\n",
    "model = abc.Model(\"poisson\", \"lognormal\", abc.Psi(\"sum\"), priors)\n",
    "numIters = 6  # The number of SMC iterations to perform\n",
    "popSize = 250  # The population size of the SMC method"
   ]
  },
  {
   "cell_type": "code",
   "execution_count": 18,
   "metadata": {},
   "outputs": [],
   "source": [
    "fit = abc.smc(numIters, popSize, obsData, model, priors)"
   ]
  },
  {
   "cell_type": "code",
   "execution_count": 19,
   "metadata": {},
   "outputs": [
    {
     "name": "stdout",
     "output_type": "stream",
     "text": [
      "Posterior mean of lambda:  29.182954699189796\n",
      "Posterior mean of mu:  -3.391532790598515\n",
      "Posterior mean of sigma:  1.4380590114749108\n"
     ]
    }
   ],
   "source": [
    "print(\"Posterior mean of lambda: \", np.sum(fit.samples[:, 0] * fit.weights))\n",
    "print(\"Posterior mean of mu: \", np.sum(fit.samples[:, 1] * fit.weights))\n",
    "print(\"Posterior mean of sigma: \", np.sum(fit.samples[:, 2] * fit.weights))"
   ]
  },
  {
   "cell_type": "code",
   "execution_count": null,
   "metadata": {},
   "outputs": [],
   "source": []
  }
 ],
 "metadata": {
  "kernelspec": {
   "display_name": "Python 3",
   "language": "python",
   "name": "python3"
  },
  "language_info": {
   "codemirror_mode": {
    "name": "ipython",
    "version": 3
   },
   "file_extension": ".py",
   "mimetype": "text/x-python",
   "name": "python",
   "nbconvert_exporter": "python",
   "pygments_lexer": "ipython3",
   "version": "3.10.12"
  }
 },
 "nbformat": 4,
 "nbformat_minor": 2
}
